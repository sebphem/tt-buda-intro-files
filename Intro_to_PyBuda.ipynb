{
 "cells": [
  {
   "cell_type": "markdown",
   "metadata": {},
   "source": [
    "# Intro to PyBuda Wrapping\n",
    "\n",
    "The method for making a PyBuda Model that we're going to work with is wrapping a PyTorch model using the pybuda.PyTorchModule() function, as it is the fastest way to get a custom model up and running. "
   ]
  },
  {
   "cell_type": "markdown",
   "metadata": {},
   "source": [
    "```python\n",
    "torch_model = Some_PyTorchModule_Here()\n",
    "buda_model = pybuda.PyTorchModule(\"direct_pt\", torch_model)\n",
    "output = buda_model.run(input1, input2)\n",
    "```"
   ]
  },
  {
   "cell_type": "markdown",
   "metadata": {},
   "source": [
    "### Abstracting out creating, training, and testing the model and making the dataset\n",
    "\n",
    "Remember this for later! We're going to be using a very similar idea later."
   ]
  },
  {
   "cell_type": "code",
   "execution_count": 4,
   "metadata": {},
   "outputs": [],
   "source": [
    "import torch\n",
    "import torchvision\n",
    "import pybuda\n",
    "from models.MNIST import load_preheated_mnist\n",
    "from models.dataloader_abstraction import get_training_mnist_data, get_test_mnist_data"
   ]
  },
  {
   "cell_type": "markdown",
   "metadata": {},
   "source": [
    "Instead of completely rewriting a model from scratch, this time we can just run two or three functions and it knows exactly what to do"
   ]
  },
  {
   "cell_type": "code",
   "execution_count": 6,
   "metadata": {},
   "outputs": [],
   "source": [
    "mnist_model = load_preheated_mnist(5)\n",
    "training_loader = get_training_mnist_data()\n",
    "test_loader = get_test_mnist_data()"
   ]
  },
  {
   "cell_type": "code",
   "execution_count": 5,
   "metadata": {},
   "outputs": [
    {
     "name": "stdout",
     "output_type": "stream",
     "text": [
      "Real Number: \n",
      "tensor([5, 7, 0, 1, 4, 7, 9, 1, 2, 1, 6, 8, 3, 0, 5, 6, 5, 0, 3, 4, 4, 9, 4, 5,\n",
      "        6, 2, 4, 5, 0, 5, 9, 2, 1, 8, 2, 8, 4, 5, 1, 9, 5, 8, 5, 8, 2, 8, 0, 4,\n",
      "        0, 5, 5, 7, 6, 4, 1, 1, 7, 5, 5, 1, 9, 8, 6, 6])\n",
      "Guessed Number: \n",
      "tensor([5, 7, 0, 1, 4, 7, 9, 1, 2, 1, 6, 8, 3, 0, 5, 6, 5, 0, 3, 4, 4, 9, 4, 5,\n",
      "        6, 2, 4, 5, 0, 5, 9, 2, 1, 8, 2, 8, 4, 5, 1, 9, 5, 8, 5, 8, 2, 8, 0, 4,\n",
      "        0, 5, 5, 7, 6, 4, 1, 1, 7, 5, 5, 1, 9, 8, 6, 6])\n"
     ]
    }
   ],
   "source": [
    "images, labels = next(iter(training_loader))\n",
    "torchvision\n",
    "images[0]\n",
    "preds = mnist_model(images, 64)\n",
    "guessed_labels = torch.argmax(preds,dim=1)\n",
    "print(\"Real Number: \")\n",
    "print(labels)\n",
    "print(\"Guessed Number: \")\n",
    "print(guessed_labels)"
   ]
  },
  {
   "cell_type": "code",
   "execution_count": null,
   "metadata": {},
   "outputs": [],
   "source": [
    "buda_model = pybuda.PyTorchModule(\"direct_pt\", mnist_model)\n",
    "output = buda_model.run(input1, input2)"
   ]
  }
 ],
 "metadata": {
  "kernelspec": {
   "display_name": "venv",
   "language": "python",
   "name": "python3"
  },
  "language_info": {
   "codemirror_mode": {
    "name": "ipython",
    "version": 3
   },
   "file_extension": ".py",
   "mimetype": "text/x-python",
   "name": "python",
   "nbconvert_exporter": "python",
   "pygments_lexer": "ipython3",
   "version": "3.9.6"
  }
 },
 "nbformat": 4,
 "nbformat_minor": 2
}
